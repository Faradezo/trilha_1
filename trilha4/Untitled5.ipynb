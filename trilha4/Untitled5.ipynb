{
  "nbformat": 4,
  "nbformat_minor": 0,
  "metadata": {
    "colab": {
      "name": "Untitled5.ipynb",
      "provenance": [],
      "collapsed_sections": [],
      "authorship_tag": "ABX9TyMtg/+ZOpcawCtNkzBTpI50",
      "include_colab_link": true
    },
    "kernelspec": {
      "name": "python3",
      "display_name": "Python 3"
    },
    "language_info": {
      "name": "python"
    }
  },
  "cells": [
    {
      "cell_type": "markdown",
      "metadata": {
        "id": "view-in-github",
        "colab_type": "text"
      },
      "source": [
        "<a href=\"https://colab.research.google.com/github/Faradezo/trilha_1/blob/main/trilha4/Untitled5.ipynb\" target=\"_parent\"><img src=\"https://colab.research.google.com/assets/colab-badge.svg\" alt=\"Open In Colab\"/></a>"
      ]
    },
    {
      "cell_type": "markdown",
      "metadata": {
        "id": "LqxvugJoBYx6"
      },
      "source": [
        "Inicialmente, carregar as bibliotecas que serão utilizadas no projeto"
      ]
    },
    {
      "cell_type": "code",
      "metadata": {
        "id": "u1DLbZ8UBg6k"
      },
      "source": [
        "import numpy as np\n",
        "import pandas as pd\n",
        "import matplotlib.pyplot as plt\n",
        "%matplotlib inline\n",
        "import seaborn as sns"
      ],
      "execution_count": 20,
      "outputs": []
    },
    {
      "cell_type": "markdown",
      "metadata": {
        "id": "sbsx7uLTBvZF"
      },
      "source": [
        "Carregar a base de dados"
      ]
    },
    {
      "cell_type": "code",
      "metadata": {
        "id": "-S4cf9znCLoO",
        "colab": {
          "base_uri": "https://localhost:8080/",
          "height": 241
        },
        "outputId": "bd9f6985-07e8-48c0-ae92-4e6cb267dff3"
      },
      "source": [
        "db = pd.read_csv('https://raw.githubusercontent.com/open-numbers/ddf--gapminder--systema_globalis/master/ddf--entities--geo-\\\n",
        "-country.csv')\n",
        "db.head()"
      ],
      "execution_count": 21,
      "outputs": [
        {
          "output_type": "execute_result",
          "data": {
            "text/html": [
              "<div>\n",
              "<style scoped>\n",
              "    .dataframe tbody tr th:only-of-type {\n",
              "        vertical-align: middle;\n",
              "    }\n",
              "\n",
              "    .dataframe tbody tr th {\n",
              "        vertical-align: top;\n",
              "    }\n",
              "\n",
              "    .dataframe thead th {\n",
              "        text-align: right;\n",
              "    }\n",
              "</style>\n",
              "<table border=\"1\" class=\"dataframe\">\n",
              "  <thead>\n",
              "    <tr style=\"text-align: right;\">\n",
              "      <th></th>\n",
              "      <th>country</th>\n",
              "      <th>g77_and_oecd_countries</th>\n",
              "      <th>income_3groups</th>\n",
              "      <th>income_groups</th>\n",
              "      <th>is--country</th>\n",
              "      <th>iso3166_1_alpha2</th>\n",
              "      <th>iso3166_1_alpha3</th>\n",
              "      <th>iso3166_1_numeric</th>\n",
              "      <th>iso3166_2</th>\n",
              "      <th>landlocked</th>\n",
              "      <th>latitude</th>\n",
              "      <th>longitude</th>\n",
              "      <th>main_religion_2008</th>\n",
              "      <th>name</th>\n",
              "      <th>un_sdg_ldc</th>\n",
              "      <th>un_sdg_region</th>\n",
              "      <th>un_state</th>\n",
              "      <th>unhcr_region</th>\n",
              "      <th>unicef_region</th>\n",
              "      <th>unicode_region_subtag</th>\n",
              "      <th>world_4region</th>\n",
              "      <th>world_6region</th>\n",
              "    </tr>\n",
              "  </thead>\n",
              "  <tbody>\n",
              "    <tr>\n",
              "      <th>0</th>\n",
              "      <td>abkh</td>\n",
              "      <td>others</td>\n",
              "      <td>NaN</td>\n",
              "      <td>NaN</td>\n",
              "      <td>True</td>\n",
              "      <td>NaN</td>\n",
              "      <td>NaN</td>\n",
              "      <td>NaN</td>\n",
              "      <td>NaN</td>\n",
              "      <td>NaN</td>\n",
              "      <td>NaN</td>\n",
              "      <td>NaN</td>\n",
              "      <td>NaN</td>\n",
              "      <td>Abkhazia</td>\n",
              "      <td>NaN</td>\n",
              "      <td>NaN</td>\n",
              "      <td>False</td>\n",
              "      <td>NaN</td>\n",
              "      <td>NaN</td>\n",
              "      <td>NaN</td>\n",
              "      <td>europe</td>\n",
              "      <td>europe_central_asia</td>\n",
              "    </tr>\n",
              "    <tr>\n",
              "      <th>1</th>\n",
              "      <td>abw</td>\n",
              "      <td>others</td>\n",
              "      <td>high_income</td>\n",
              "      <td>high_income</td>\n",
              "      <td>True</td>\n",
              "      <td>AW</td>\n",
              "      <td>ABW</td>\n",
              "      <td>533.0</td>\n",
              "      <td>NaN</td>\n",
              "      <td>coastline</td>\n",
              "      <td>12.50000</td>\n",
              "      <td>-69.96667</td>\n",
              "      <td>christian</td>\n",
              "      <td>Aruba</td>\n",
              "      <td>un_not_least_developed</td>\n",
              "      <td>un_latin_america_and_the_caribbean</td>\n",
              "      <td>False</td>\n",
              "      <td>unhcr_americas</td>\n",
              "      <td>NaN</td>\n",
              "      <td>AW</td>\n",
              "      <td>americas</td>\n",
              "      <td>america</td>\n",
              "    </tr>\n",
              "    <tr>\n",
              "      <th>2</th>\n",
              "      <td>afg</td>\n",
              "      <td>g77</td>\n",
              "      <td>low_income</td>\n",
              "      <td>low_income</td>\n",
              "      <td>True</td>\n",
              "      <td>AF</td>\n",
              "      <td>AFG</td>\n",
              "      <td>4.0</td>\n",
              "      <td>NaN</td>\n",
              "      <td>landlocked</td>\n",
              "      <td>33.00000</td>\n",
              "      <td>66.00000</td>\n",
              "      <td>muslim</td>\n",
              "      <td>Afghanistan</td>\n",
              "      <td>un_least_developed</td>\n",
              "      <td>un_central_and_southern_asia</td>\n",
              "      <td>True</td>\n",
              "      <td>unhcr_asia_pacific</td>\n",
              "      <td>sa</td>\n",
              "      <td>AF</td>\n",
              "      <td>asia</td>\n",
              "      <td>south_asia</td>\n",
              "    </tr>\n",
              "    <tr>\n",
              "      <th>3</th>\n",
              "      <td>ago</td>\n",
              "      <td>g77</td>\n",
              "      <td>middle_income</td>\n",
              "      <td>lower_middle_income</td>\n",
              "      <td>True</td>\n",
              "      <td>AO</td>\n",
              "      <td>AGO</td>\n",
              "      <td>24.0</td>\n",
              "      <td>NaN</td>\n",
              "      <td>coastline</td>\n",
              "      <td>-12.50000</td>\n",
              "      <td>18.50000</td>\n",
              "      <td>christian</td>\n",
              "      <td>Angola</td>\n",
              "      <td>un_least_developed</td>\n",
              "      <td>un_sub_saharan_africa</td>\n",
              "      <td>True</td>\n",
              "      <td>unhcr_southern_africa</td>\n",
              "      <td>ssa</td>\n",
              "      <td>AO</td>\n",
              "      <td>africa</td>\n",
              "      <td>sub_saharan_africa</td>\n",
              "    </tr>\n",
              "    <tr>\n",
              "      <th>4</th>\n",
              "      <td>aia</td>\n",
              "      <td>others</td>\n",
              "      <td>NaN</td>\n",
              "      <td>NaN</td>\n",
              "      <td>True</td>\n",
              "      <td>AI</td>\n",
              "      <td>AIA</td>\n",
              "      <td>660.0</td>\n",
              "      <td>NaN</td>\n",
              "      <td>coastline</td>\n",
              "      <td>18.21667</td>\n",
              "      <td>-63.05000</td>\n",
              "      <td>christian</td>\n",
              "      <td>Anguilla</td>\n",
              "      <td>un_not_least_developed</td>\n",
              "      <td>un_latin_america_and_the_caribbean</td>\n",
              "      <td>False</td>\n",
              "      <td>unhcr_americas</td>\n",
              "      <td>NaN</td>\n",
              "      <td>AI</td>\n",
              "      <td>americas</td>\n",
              "      <td>america</td>\n",
              "    </tr>\n",
              "  </tbody>\n",
              "</table>\n",
              "</div>"
            ],
            "text/plain": [
              "  country g77_and_oecd_countries  ... world_4region        world_6region\n",
              "0    abkh                 others  ...        europe  europe_central_asia\n",
              "1     abw                 others  ...      americas              america\n",
              "2     afg                    g77  ...          asia           south_asia\n",
              "3     ago                    g77  ...        africa   sub_saharan_africa\n",
              "4     aia                 others  ...      americas              america\n",
              "\n",
              "[5 rows x 22 columns]"
            ]
          },
          "metadata": {},
          "execution_count": 21
        }
      ]
    },
    {
      "cell_type": "markdown",
      "metadata": {
        "id": "o3eMdbxGWAPs"
      },
      "source": [
        "checagem das colunas"
      ]
    },
    {
      "cell_type": "code",
      "metadata": {
        "colab": {
          "base_uri": "https://localhost:8080/",
          "height": 0
        },
        "id": "qxaLHqRoWG1L",
        "outputId": "8667daf5-d2dc-4f8a-e358-6aa7dea74f3a"
      },
      "source": [
        "db.columns"
      ],
      "execution_count": 22,
      "outputs": [
        {
          "output_type": "execute_result",
          "data": {
            "text/plain": [
              "Index(['country', 'g77_and_oecd_countries', 'income_3groups', 'income_groups',\n",
              "       'is--country', 'iso3166_1_alpha2', 'iso3166_1_alpha3',\n",
              "       'iso3166_1_numeric', 'iso3166_2', 'landlocked', 'latitude', 'longitude',\n",
              "       'main_religion_2008', 'name', 'un_sdg_ldc', 'un_sdg_region', 'un_state',\n",
              "       'unhcr_region', 'unicef_region', 'unicode_region_subtag',\n",
              "       'world_4region', 'world_6region'],\n",
              "      dtype='object')"
            ]
          },
          "metadata": {},
          "execution_count": 22
        }
      ]
    },
    {
      "cell_type": "markdown",
      "metadata": {
        "id": "fnfqx-gBWzVa"
      },
      "source": [
        "Foram listados 23 colunas, por enquanto as com menos relevância para este trabalho seriam as de geo localização, por isso, as de latitude e longitude serão removidas É possível ver que existe duas colunas praticamente idênticas sobre regiões do mundo, onde a diferença é que uma separa algumas regiões em central, sul, etc., optarei por manter a com 6 pois possuem mais dados e outras colunas que não vi relevância."
      ]
    },
    {
      "cell_type": "code",
      "metadata": {
        "colab": {
          "base_uri": "https://localhost:8080/",
          "height": 204
        },
        "id": "stcy5SFzYty-",
        "outputId": "186a7254-fff2-441b-d84e-3c4d4e582472"
      },
      "source": [
        "db = db.drop(columns = ['latitude', 'longitude'])\n",
        "db = db.drop(columns = ['world_4region'])\n",
        "db = db.drop(columns = ['unhcr_region', 'income_groups', 'unicef_region'])\n",
        "db = db.drop(columns = ['un_state', 'un_sdg_ldc', 'un_sdg_region'])\n",
        "db = db.drop(columns = ['is--country', 'unicode_region_subtag'])\n",
        "db = db.drop(columns = ['iso3166_1_alpha2', 'iso3166_1_alpha3', 'iso3166_1_numeric', 'iso3166_2'])\n",
        "db.head()"
      ],
      "execution_count": 23,
      "outputs": [
        {
          "output_type": "execute_result",
          "data": {
            "text/html": [
              "<div>\n",
              "<style scoped>\n",
              "    .dataframe tbody tr th:only-of-type {\n",
              "        vertical-align: middle;\n",
              "    }\n",
              "\n",
              "    .dataframe tbody tr th {\n",
              "        vertical-align: top;\n",
              "    }\n",
              "\n",
              "    .dataframe thead th {\n",
              "        text-align: right;\n",
              "    }\n",
              "</style>\n",
              "<table border=\"1\" class=\"dataframe\">\n",
              "  <thead>\n",
              "    <tr style=\"text-align: right;\">\n",
              "      <th></th>\n",
              "      <th>country</th>\n",
              "      <th>g77_and_oecd_countries</th>\n",
              "      <th>income_3groups</th>\n",
              "      <th>landlocked</th>\n",
              "      <th>main_religion_2008</th>\n",
              "      <th>name</th>\n",
              "      <th>world_6region</th>\n",
              "    </tr>\n",
              "  </thead>\n",
              "  <tbody>\n",
              "    <tr>\n",
              "      <th>0</th>\n",
              "      <td>abkh</td>\n",
              "      <td>others</td>\n",
              "      <td>NaN</td>\n",
              "      <td>NaN</td>\n",
              "      <td>NaN</td>\n",
              "      <td>Abkhazia</td>\n",
              "      <td>europe_central_asia</td>\n",
              "    </tr>\n",
              "    <tr>\n",
              "      <th>1</th>\n",
              "      <td>abw</td>\n",
              "      <td>others</td>\n",
              "      <td>high_income</td>\n",
              "      <td>coastline</td>\n",
              "      <td>christian</td>\n",
              "      <td>Aruba</td>\n",
              "      <td>america</td>\n",
              "    </tr>\n",
              "    <tr>\n",
              "      <th>2</th>\n",
              "      <td>afg</td>\n",
              "      <td>g77</td>\n",
              "      <td>low_income</td>\n",
              "      <td>landlocked</td>\n",
              "      <td>muslim</td>\n",
              "      <td>Afghanistan</td>\n",
              "      <td>south_asia</td>\n",
              "    </tr>\n",
              "    <tr>\n",
              "      <th>3</th>\n",
              "      <td>ago</td>\n",
              "      <td>g77</td>\n",
              "      <td>middle_income</td>\n",
              "      <td>coastline</td>\n",
              "      <td>christian</td>\n",
              "      <td>Angola</td>\n",
              "      <td>sub_saharan_africa</td>\n",
              "    </tr>\n",
              "    <tr>\n",
              "      <th>4</th>\n",
              "      <td>aia</td>\n",
              "      <td>others</td>\n",
              "      <td>NaN</td>\n",
              "      <td>coastline</td>\n",
              "      <td>christian</td>\n",
              "      <td>Anguilla</td>\n",
              "      <td>america</td>\n",
              "    </tr>\n",
              "  </tbody>\n",
              "</table>\n",
              "</div>"
            ],
            "text/plain": [
              "  country g77_and_oecd_countries  ...         name        world_6region\n",
              "0    abkh                 others  ...     Abkhazia  europe_central_asia\n",
              "1     abw                 others  ...        Aruba              america\n",
              "2     afg                    g77  ...  Afghanistan           south_asia\n",
              "3     ago                    g77  ...       Angola   sub_saharan_africa\n",
              "4     aia                 others  ...     Anguilla              america\n",
              "\n",
              "[5 rows x 7 columns]"
            ]
          },
          "metadata": {},
          "execution_count": 23
        }
      ]
    },
    {
      "cell_type": "markdown",
      "metadata": {
        "id": "ExFUNZnxfP6U"
      },
      "source": [
        "Com os dados restantes, os mais relevantes ao meu ver são:\n",
        " \n",
        "*   Países em grupos de desenvolvimento\n",
        "*   Niveis de renda dos países\n",
        "*   Países que são litorâneos\n",
        "*   Religiões\n",
        "*   Países onde a UNICEF é presente\n",
        "\n",
        "Porém, UNICEF em uma checagem rapida, se encontra presente em praticamente todos os paises, o que torna desinteressante qualquer lista que envolva este valor e por isso tmb foi removida e, sera adicionado outra base de dados na qual possuem o indice de mortalidade de crianças de 0 a 5 anos por mil, tambem sera adicionado uma base com a expectativa de vida nos paises"
      ]
    },
    {
      "cell_type": "code",
      "metadata": {
        "id": "Fgtj0VY8fpnj"
      },
      "source": [
        "db_kids = pd.read_csv('https://raw.githubusercontent.com/open-numbers/ddf--gapminder--systema_globalis/master/countries-\\\n",
        "etc-datapoints/ddf--datapoints--child_mortality_0_5_year_olds_dying_per_1000_born--by--geo--time.csv')\n",
        "db_exp = pd.read_csv('https://raw.githubusercontent.com/open-numbers/ddf--gapminder--systema_globalis/master/countries-\\\n",
        "etc-datapoints/ddf--datapoints--life_expectancy_years--by--geo--time.csv')"
      ],
      "execution_count": 24,
      "outputs": []
    },
    {
      "cell_type": "markdown",
      "metadata": {
        "id": "aCs1Buz2koVu"
      },
      "source": [
        "Ambas bases tem valores por ano então para reduzir, será feito uma média dos últimos 20 anos de cada para isso vou remover os valores com ano inferior a 2000 e superior a 2020."
      ]
    },
    {
      "cell_type": "code",
      "metadata": {
        "id": "U3lsDcbLDPAo"
      },
      "source": [
        "db_kids = db_kids[db_kids['time'] >= 2000]\n",
        "db_kids = db_kids[db_kids['time'] < 2021]\n",
        "db_exp = db_exp[db_exp['time'] >= 2000]\n",
        "db_exp = db_exp[db_exp['time'] < 2021]"
      ],
      "execution_count": 25,
      "outputs": []
    },
    {
      "cell_type": "markdown",
      "metadata": {
        "id": "YlPHRepgFdoC"
      },
      "source": [
        "Agora, converter em dictionary com os valores médios dos itens"
      ]
    },
    {
      "cell_type": "code",
      "metadata": {
        "id": "BfdVm6FjFYoN"
      },
      "source": [
        "#child\n",
        "db_kids = db_kids.groupby('geo').child_mortality_0_5_year_olds_dying_per_1000_born\n",
        "db_kids.mean()\n",
        "db_kids = db_kids.mean()\n",
        "db_kids = pd.DataFrame({'country':db_kids.keys(), 'cm05yodp1kb':db_kids.values})\n",
        "#life\n",
        "db_exp = db_exp.groupby('geo').life_expectancy_years\n",
        "db_exp = db_exp.mean()\n",
        "db_exp = pd.DataFrame({'country':db_exp.keys(), 'Life_exp_years':db_exp.values})"
      ],
      "execution_count": 26,
      "outputs": []
    },
    {
      "cell_type": "markdown",
      "metadata": {
        "id": "qgZZOxkwpl7b"
      },
      "source": [
        "Unindo os DataFrames e ajustando alguns nomes"
      ]
    },
    {
      "cell_type": "code",
      "metadata": {
        "id": "6Q0HJfhpprs9"
      },
      "source": [
        "db = pd.merge(db, db_kids[['country', 'cm05yodp1kb']], on = 'country')\n",
        "db = pd.merge(db, db_exp[['country', 'Life_exp_years']], on = 'country')\n",
        "db = db.rename(columns = {'g77_and_oecd_countries':'g77_oecd'})"
      ],
      "execution_count": 27,
      "outputs": []
    },
    {
      "cell_type": "markdown",
      "metadata": {
        "id": "GJ1gZRedQTCv"
      },
      "source": [
        "# Justificativa\n",
        "Agora com tudo junto é possivel vizualizar melhor e filtrar as tabelas que seriam ao meu ver novamente, interessantes, são elas:\n",
        "\n",
        "No quesito Expectativa de vida\n",
        "*   Expectativa de vida em relação ao nível de renda do país\n",
        "*   Expectativa de vida em relação a região do pais no mundo\n",
        "*   Expectativa de vida em relação a religião do pais\n",
        "*   Expectativa de vida em relação a taxa de morte de criancas de 0 a 5 anos\n",
        "\n",
        "No quesito Religião\n",
        "*   Taxa de mortalidade de crianças de 0 a 5 anos considerando a religiao local\n",
        "*   A renda nos países dependendo a religião do país\n",
        "\n",
        "Considerendo estes pontos e levando em consideracao que sera feito o trabalho sobre algum dos topicos sitados, g77 e ocde, se tem costa ou nao ficaram como sendo dados irrelevantes, e estes serao removidos tambem, assim como o country, ja que o nome sera utilizado como ID\n",
        "\n",
        "\n",
        "\n",
        "\n",
        "\n"
      ]
    },
    {
      "cell_type": "code",
      "metadata": {
        "colab": {
          "base_uri": "https://localhost:8080/",
          "height": 204
        },
        "id": "haqCWtBGSKXU",
        "outputId": "dc31865e-93b4-4528-83bf-5e10cad2a989"
      },
      "source": [
        "db = db.drop(columns = ['g77_oecd', 'landlocked', 'country'])\n",
        "db.head()"
      ],
      "execution_count": 28,
      "outputs": [
        {
          "output_type": "execute_result",
          "data": {
            "text/html": [
              "<div>\n",
              "<style scoped>\n",
              "    .dataframe tbody tr th:only-of-type {\n",
              "        vertical-align: middle;\n",
              "    }\n",
              "\n",
              "    .dataframe tbody tr th {\n",
              "        vertical-align: top;\n",
              "    }\n",
              "\n",
              "    .dataframe thead th {\n",
              "        text-align: right;\n",
              "    }\n",
              "</style>\n",
              "<table border=\"1\" class=\"dataframe\">\n",
              "  <thead>\n",
              "    <tr style=\"text-align: right;\">\n",
              "      <th></th>\n",
              "      <th>income_3groups</th>\n",
              "      <th>main_religion_2008</th>\n",
              "      <th>name</th>\n",
              "      <th>world_6region</th>\n",
              "      <th>cm05yodp1kb</th>\n",
              "      <th>Life_exp_years</th>\n",
              "    </tr>\n",
              "  </thead>\n",
              "  <tbody>\n",
              "    <tr>\n",
              "      <th>0</th>\n",
              "      <td>low_income</td>\n",
              "      <td>muslim</td>\n",
              "      <td>Afghanistan</td>\n",
              "      <td>south_asia</td>\n",
              "      <td>90.128095</td>\n",
              "      <td>59.762381</td>\n",
              "    </tr>\n",
              "    <tr>\n",
              "      <th>1</th>\n",
              "      <td>middle_income</td>\n",
              "      <td>christian</td>\n",
              "      <td>Angola</td>\n",
              "      <td>sub_saharan_africa</td>\n",
              "      <td>128.752857</td>\n",
              "      <td>59.761905</td>\n",
              "    </tr>\n",
              "    <tr>\n",
              "      <th>2</th>\n",
              "      <td>middle_income</td>\n",
              "      <td>muslim</td>\n",
              "      <td>Albania</td>\n",
              "      <td>europe_central_asia</td>\n",
              "      <td>14.811905</td>\n",
              "      <td>77.399048</td>\n",
              "    </tr>\n",
              "    <tr>\n",
              "      <th>3</th>\n",
              "      <td>high_income</td>\n",
              "      <td>christian</td>\n",
              "      <td>Andorra</td>\n",
              "      <td>europe_central_asia</td>\n",
              "      <td>4.328095</td>\n",
              "      <td>81.673000</td>\n",
              "    </tr>\n",
              "    <tr>\n",
              "      <th>4</th>\n",
              "      <td>high_income</td>\n",
              "      <td>muslim</td>\n",
              "      <td>United Arab Emirates</td>\n",
              "      <td>middle_east_north_africa</td>\n",
              "      <td>8.820000</td>\n",
              "      <td>71.189524</td>\n",
              "    </tr>\n",
              "  </tbody>\n",
              "</table>\n",
              "</div>"
            ],
            "text/plain": [
              "  income_3groups main_religion_2008  ... cm05yodp1kb Life_exp_years\n",
              "0     low_income             muslim  ...   90.128095      59.762381\n",
              "1  middle_income          christian  ...  128.752857      59.761905\n",
              "2  middle_income             muslim  ...   14.811905      77.399048\n",
              "3    high_income          christian  ...    4.328095      81.673000\n",
              "4    high_income             muslim  ...    8.820000      71.189524\n",
              "\n",
              "[5 rows x 6 columns]"
            ]
          },
          "metadata": {},
          "execution_count": 28
        }
      ]
    },
    {
      "cell_type": "markdown",
      "metadata": {
        "id": "xGz4QpS3TRnB"
      },
      "source": [
        "Agora para facilitar, sera criado dataframes para cada tabela para que assim seja mais facil desmembrar e \"pivotar\" os dados"
      ]
    },
    {
      "cell_type": "code",
      "metadata": {
        "id": "lVcf2WRVbNnK"
      },
      "source": [
        "db_exp_inc = pd.DataFrame({'name':db['name'],'income':db['income_3groups'],'life_exp': db['Life_exp_years']})       \n",
        "#expectativa de vida sobre renda\n",
        "db_exp_reg = pd.DataFrame({'name':db['name'],'region':db['world_6region'],'life_exp': db['Life_exp_years']})        \n",
        "#expectativa de vida sobre a região\n",
        "db_exp_rel = pd.DataFrame({'name':db['name'],'religion':db['main_religion_2008'],'life_exp': db['Life_exp_years']}) \n",
        "#expectativa de vida sobre a religião\n",
        "db_exp_chi = pd.DataFrame({'name':db['name'],'child':db['cm05yodp1kb'],'life_exp': db['Life_exp_years']})           \n",
        "#expectativa de vida sobre mortalidade infantil\n",
        "db_chi_rel = pd.DataFrame({'name':db['name'],'child':db['cm05yodp1kb'],'religion':db['main_religion_2008']})        \n",
        "#mortalidade infantil sobre religiao\n",
        "db_inc_rel = pd.DataFrame({'name':db['name'],'income':db['income_3groups'],'religion':db['main_religion_2008']})    \n",
        "#renda sobre a religiao"
      ],
      "execution_count": 29,
      "outputs": []
    },
    {
      "cell_type": "markdown",
      "metadata": {
        "id": "_CWqgfa20yug"
      },
      "source": [
        "# Expectativa de vida sobre a renda\n",
        "Será utilizado a espectativa de vida de todos os países em relação ao nivel de renda destes países, por isso, o nome deles nao são relevantes já que serao agrupados pela renda, entao, pode-se fazer uma tabela sobre estes dois valores, entao, será removido a coluna de nomes e será feito um reshape dos dados dividindo eles em 3 colunas, para os 3 tipos de renda\n"
      ]
    },
    {
      "cell_type": "code",
      "metadata": {
        "id": "cj_nY81gB6jB"
      },
      "source": [
        "db_exp_inc = db_exp_inc.drop(columns = ['name'])\n",
        "db_exp_inc = pd.pivot(db_exp_inc, columns=['income'], values = 'life_exp')"
      ],
      "execution_count": 30,
      "outputs": []
    },
    {
      "cell_type": "markdown",
      "metadata": {
        "id": "zlNcUu1rQHDt"
      },
      "source": [
        "Para estes dados, o grafico que melhor representa os valores é o boxplot, para isso utilizei a funcao dropna() para remover os dados ausentes, e a partir daqui segue apenas a montagem da imagem"
      ]
    },
    {
      "cell_type": "markdown",
      "metadata": {
        "id": "MdsWYzsHbC44"
      },
      "source": [
        "Expectativa de vida sobre a renda"
      ]
    },
    {
      "cell_type": "code",
      "metadata": {
        "colab": {
          "base_uri": "https://localhost:8080/",
          "height": 352
        },
        "id": "bzsBUFKm1bY8",
        "outputId": "37eadf23-bc4b-48a1-a408-a45a92afca00"
      },
      "source": [
        "plt.figure(figsize=(12,4))\n",
        "plt.boxplot([db_exp_inc.low_income.dropna(), db_exp_inc.middle_income.dropna(), db_exp_inc.high_income.dropna()], \\\n",
        "            labels =['Low', 'Middle', 'High'], patch_artist=True)\n",
        "plt.title('Expectativa de vida sobre Renda', weight='bold')\n",
        "\n"
      ],
      "execution_count": 31,
      "outputs": [
        {
          "output_type": "stream",
          "name": "stderr",
          "text": [
            "/usr/local/lib/python3.7/dist-packages/numpy/core/_asarray.py:83: VisibleDeprecationWarning: Creating an ndarray from ragged nested sequences (which is a list-or-tuple of lists-or-tuples-or ndarrays with different lengths or shapes) is deprecated. If you meant to do this, you must specify 'dtype=object' when creating the ndarray\n",
            "  return array(a, dtype, copy=False, order=order)\n"
          ]
        },
        {
          "output_type": "execute_result",
          "data": {
            "text/plain": [
              "Text(0.5, 1.0, 'Expectativa de vida sobre Renda')"
            ]
          },
          "metadata": {},
          "execution_count": 31
        },
        {
          "output_type": "display_data",
          "data": {
            "image/png": "[encoded data removed]",
            "text/plain": [
              "<Figure size 864x288 with 1 Axes>"
            ]
          },
          "metadata": {
            "needs_background": "light"
          }
        }
      ]
    },
    {
      "cell_type": "markdown",
      "metadata": {
        "id": "N8FXQ4P-VeP7"
      },
      "source": [
        "# Expectativa de vida sobre a religiao"
      ]
    },
    {
      "cell_type": "code",
      "metadata": {
        "colab": {
          "base_uri": "https://localhost:8080/",
          "height": 296
        },
        "id": "md44OOq7Vkqv",
        "outputId": "1967c1e2-8d42-494f-f602-d1c992d31083"
      },
      "source": [
        "plt.figure(figsize=(14,10))\n",
        "db_exp_rel = db_exp_rel.drop(columns = ['name'])\n",
        "db_exp_rel = pd.pivot(db_exp_rel, columns=['religion'], values = 'life_exp')\n",
        "plt.subplot(3,2,2)\n",
        "plt.boxplot([db_exp_rel.christian.dropna(), db_exp_rel.eastern_religions.dropna(), db_exp_rel.muslim.dropna()], \\\n",
        "            labels =['Christian', 'Eastern', 'Muslim'], patch_artist=True)\n",
        "plt.title('Expectativa de vida sobre Religião', fontsize=14, weight='bold')"
      ],
      "execution_count": 32,
      "outputs": [
        {
          "output_type": "stream",
          "name": "stderr",
          "text": [
            "/usr/local/lib/python3.7/dist-packages/numpy/core/_asarray.py:83: VisibleDeprecationWarning: Creating an ndarray from ragged nested sequences (which is a list-or-tuple of lists-or-tuples-or ndarrays with different lengths or shapes) is deprecated. If you meant to do this, you must specify 'dtype=object' when creating the ndarray\n",
            "  return array(a, dtype, copy=False, order=order)\n"
          ]
        },
        {
          "output_type": "execute_result",
          "data": {
            "text/plain": [
              "Text(0.5, 1.0, 'Expectativa de vida sobre Religião')"
            ]
          },
          "metadata": {},
          "execution_count": 32
        },
        {
          "output_type": "display_data",
          "data": {
            "image/png": "[encoded data removed]",
            "text/plain": [
              "<Figure size 1008x720 with 1 Axes>"
            ]
          },
          "metadata": {
            "needs_background": "light"
          }
        }
      ]
    },
    {
      "cell_type": "markdown",
      "metadata": {
        "id": "ZGUE4dW_XcN-"
      },
      "source": [
        "# Expectativa de vida sobre região"
      ]
    },
    {
      "cell_type": "code",
      "metadata": {
        "colab": {
          "base_uri": "https://localhost:8080/",
          "height": 371
        },
        "id": "_bMvefDhXpS_",
        "outputId": "bf6d7db3-37b9-4260-9174-bcaf03f79313"
      },
      "source": [
        "plt.figure(figsize=(12,4))\n",
        "db_exp_reg = db_exp_reg.drop(columns = ['name'])\n",
        "db_exp_reg = pd.pivot(db_exp_reg, columns=['region'], values = 'life_exp')\n",
        "exp_reg_label = ['America', 'Asia (L)', 'Euro_Asia', 'Africa', 'Asia (S)', 'Africa (Sahara)']\n",
        "plt.boxplot([db_exp_reg.america.dropna(), db_exp_reg.east_asia_pacific.dropna(), db_exp_reg.europe_central_asia.\\\n",
        "             dropna(), db_exp_reg.middle_east_north_africa.dropna(), db_exp_reg.south_asia.dropna(), db_exp_reg.\\\n",
        "             sub_saharan_africa.dropna()], labels =exp_reg_label, patch_artist=True)\n",
        "plt.title('Expectativa de vida sobre Região', weight='bold')\n",
        "plt.xticks(rotation=15)"
      ],
      "execution_count": 33,
      "outputs": [
        {
          "output_type": "stream",
          "name": "stderr",
          "text": [
            "/usr/local/lib/python3.7/dist-packages/numpy/core/_asarray.py:83: VisibleDeprecationWarning: Creating an ndarray from ragged nested sequences (which is a list-or-tuple of lists-or-tuples-or ndarrays with different lengths or shapes) is deprecated. If you meant to do this, you must specify 'dtype=object' when creating the ndarray\n",
            "  return array(a, dtype, copy=False, order=order)\n"
          ]
        },
        {
          "output_type": "execute_result",
          "data": {
            "text/plain": [
              "(array([1, 2, 3, 4, 5, 6]), <a list of 6 Text major ticklabel objects>)"
            ]
          },
          "metadata": {},
          "execution_count": 33
        },
        {
          "output_type": "display_data",
          "data": {
            "image/png": "[encoded data removed]",
            "text/plain": [
              "<Figure size 864x288 with 1 Axes>"
            ]
          },
          "metadata": {
            "needs_background": "light"
          }
        }
      ]
    },
    {
      "cell_type": "markdown",
      "metadata": {
        "id": "SnrufrRRnJXA"
      },
      "source": [
        "# Expectativa de vida sobre mortalidade infantil\n",
        "Aqui optei por utilizar um Grafico de dispersão, pois diferente dos anteriores, todos os valores são do tipo float, também foi adicionado uma linha de tendência"
      ]
    },
    {
      "cell_type": "code",
      "metadata": {
        "colab": {
          "base_uri": "https://localhost:8080/",
          "height": 313
        },
        "id": "3bJuLNBLnPfX",
        "outputId": "d0203c47-d9da-4271-9c89-537357c47647"
      },
      "source": [
        "plt.figure(figsize=(12,4))\n",
        "db_exp_chi = db_exp_chi.drop(columns = ['name'])\n",
        "sns.regplot(x='life_exp', y= 'child', data=db_exp_chi, label='Expectativa de vida', marker = '+', order= 2)\n",
        "plt.title('Expectativa de vida sobre Mortalidade infantil')"
      ],
      "execution_count": 34,
      "outputs": [
        {
          "output_type": "execute_result",
          "data": {
            "text/plain": [
              "Text(0.5, 1.0, 'Expectativa de vida sobre Mortalidade infantil')"
            ]
          },
          "metadata": {},
          "execution_count": 34
        },
        {
          "output_type": "display_data",
          "data": {
            "image/png": "[encoded data removed]",
            "text/plain": [
              "<Figure size 864x288 with 1 Axes>"
            ]
          },
          "metadata": {
            "needs_background": "light"
          }
        }
      ]
    },
    {
      "cell_type": "markdown",
      "metadata": {
        "id": "FeS5qe7atFPU"
      },
      "source": [
        "# Mortalidade infantil sobre religião"
      ]
    },
    {
      "cell_type": "code",
      "metadata": {
        "colab": {
          "base_uri": "https://localhost:8080/",
          "height": 352
        },
        "id": "j8DFiN-2tN8-",
        "outputId": "9e6c004b-a953-4f02-e515-c98853830425"
      },
      "source": [
        "db_chi_rel = db_chi_rel.drop(columns = ['name'])\n",
        "db_chi_rel = pd.pivot(db_chi_rel, columns=['religion'], values = 'child')\n",
        "plt.figure(figsize=(12,4))\n",
        "plt.boxplot([db_exp_rel.christian.dropna(), db_exp_rel.eastern_religions.dropna(), db_exp_rel.muslim.dropna()], \\\n",
        "            labels =['Christian', 'Eastern', 'Muslim'], patch_artist=True)\n",
        "plt.title('Mortalidade Infantil sobre Religião', weight='bold')"
      ],
      "execution_count": 35,
      "outputs": [
        {
          "output_type": "stream",
          "name": "stderr",
          "text": [
            "/usr/local/lib/python3.7/dist-packages/numpy/core/_asarray.py:83: VisibleDeprecationWarning: Creating an ndarray from ragged nested sequences (which is a list-or-tuple of lists-or-tuples-or ndarrays with different lengths or shapes) is deprecated. If you meant to do this, you must specify 'dtype=object' when creating the ndarray\n",
            "  return array(a, dtype, copy=False, order=order)\n"
          ]
        },
        {
          "output_type": "execute_result",
          "data": {
            "text/plain": [
              "Text(0.5, 1.0, 'Mortalidade Infantil sobre Religião')"
            ]
          },
          "metadata": {},
          "execution_count": 35
        },
        {
          "output_type": "display_data",
          "data": {
            "image/png": "[encoded data removed]",
            "text/plain": [
              "<Figure size 864x288 with 1 Axes>"
            ]
          },
          "metadata": {
            "needs_background": "light"
          }
        }
      ]
    },
    {
      "cell_type": "markdown",
      "metadata": {
        "id": "GsuG7PfpuDfD"
      },
      "source": [
        "# Renda sobre a religiao\n",
        "Aqui, são strings x stings, como não sei como resolver isso, criei um for para gerar um vetor que vai coletar os incomes convertendo-os low(0), middle(1) e high(2) e depois adicionando este vetor ao dataframe"
      ]
    },
    {
      "cell_type": "code",
      "metadata": {
        "id": "gh6bsuhluE4b"
      },
      "source": [
        "db_inc_rel = db_inc_rel.drop(columns = ['name'])\n",
        "incomes   = []\n",
        "incomes_val = []\n",
        "religions = []\n",
        "religions_val = []\n",
        "import math #checar se é nan\n",
        "for inc, rel in zip(db_inc_rel.income, db_inc_rel.religion.dropna()):\n",
        "  try:\n",
        "    math.isnan(inc)# so sera considerado quando o income tiver valor valido\n",
        "  except:\n",
        "    incomes.append(inc)\n",
        "    religions.append(rel)\n",
        "    if inc == 'low_income':\n",
        "      incomes_val.append(0)\n",
        "    if inc == 'middle_income':\n",
        "      incomes_val.append(1)\n",
        "    if inc == 'high_income':\n",
        "      incomes_val.append(2)\n",
        "    if rel == 'christian':\n",
        "      religions_val.append(0)\n",
        "    if rel == 'eastern_religions':\n",
        "      religions_val.append(1)\n",
        "    if rel == 'muslim':\n",
        "      religions_val.append(2)\n",
        "\n",
        "db_aux = pd.DataFrame({'incomes':incomes, 'income':incomes_val, 'religion':religions, 'religions':religions_val})\n",
        "db_aux = db_aux.drop(columns = ['incomes'])"
      ],
      "execution_count": 36,
      "outputs": []
    },
    {
      "cell_type": "markdown",
      "metadata": {
        "id": "LZkYoMNhORga"
      },
      "source": [
        "Fazer um vetor para coletar as combinacoes entre religiao e renda"
      ]
    },
    {
      "cell_type": "code",
      "metadata": {
        "id": "cfgbB7E5OXP6"
      },
      "source": [
        "my_dict = {}\n",
        "#popular o dicionario com as keys na ordem correta e com 0 de valor\n",
        "for i in range(3):\n",
        "  for j in range(3):\n",
        "    my_dict[(str(j)+str(i))] = 0\n",
        "#contar quantos valore tem de cada\n",
        "for i, y in zip(db_aux.income, db_aux.religions):\n",
        "  aux = (str(i)+str(y))\n",
        "  my_dict[aux] += 1\n",
        "\n",
        "vetor = list(my_dict.values())\n"
      ],
      "execution_count": 37,
      "outputs": []
    },
    {
      "cell_type": "markdown",
      "metadata": {
        "id": "OWCtr3XPdO2K"
      },
      "source": [
        "Este é uma matrix de 3x3, entao usarei o heatmap"
      ]
    },
    {
      "cell_type": "code",
      "metadata": {
        "colab": {
          "base_uri": "https://localhost:8080/",
          "height": 353
        },
        "id": "PussnQ-4SgsD",
        "outputId": "77558037-bf0e-4af7-a527-10e7f49b27da"
      },
      "source": [
        "religioes = ['christian', 'eastern_religions', 'muslim']\n",
        "renda = ['low', 'middle', 'high']\n",
        "valores = np.array([vetor[:3],vetor[3:6], vetor[6:9]])\n",
        "plt.figure(figsize=(12,12))\n",
        "fig1, ax = plt.subplots()\n",
        "im = ax.imshow(valores)\n",
        "ax.set_xticks(np.arange(len(renda)))\n",
        "ax.set_yticks(np.arange(len(religioes)))\n",
        "ax.set_xticklabels(renda)\n",
        "ax.set_yticklabels(religioes)\n",
        "plt.setp(ax.get_xticklabels(), rotation=45, ha=\"right\", rotation_mode=\"anchor\")\n",
        "for i in range(len(religioes)):\n",
        "  for j in range(len(renda)):\n",
        "    text = ax.text(j, i, valores[i, j], ha=\"center\", va=\"center\", color=\"w\")\n",
        "ax.set_title('Renda sobre religiao')\n",
        "plt.suptitle('Artist Layer', y=1.05)\n",
        "plt.show()"
      ],
      "execution_count": 38,
      "outputs": [
        {
          "output_type": "display_data",
          "data": {
            "text/plain": [
              "<Figure size 864x864 with 0 Axes>"
            ]
          },
          "metadata": {}
        },
        {
          "output_type": "display_data",
          "data": {
            "image/png": "[encoded data removed]",
            "text/plain": [
              "<Figure size 432x288 with 1 Axes>"
            ]
          },
          "metadata": {
            "needs_background": "light"
          }
        }
      ]
    },
    {
      "cell_type": "markdown",
      "metadata": {
        "id": "VK_oKVBTW1-9"
      },
      "source": [
        "# Conclusão\n",
        "\n",
        "Analisando os graficos que foram apresentados, temos as seguintes conclusões\n",
        "\n",
        "\n",
        "\n",
        "*   Como era de se esperar, quando maior a renda do país, maior a expectativa de vida.\n",
        "*   A espectativa de vida onde a religião vem do oriente é maior, contudo, é sabiaodo que este nao é o real motivo e sim por varios outros fatores que existem neste lado do planeta, ja que a maioria dos paises com estas religioes se encontram la, em resumo, este grafico nao é relevante.\n",
        "*   Este gráfico prova o que foi dito sobre o anterior, as regiões com maiores expectativas de vida são regiões mais ao hemisfério norte, onde, considerando o gráfico anterior, estão um mesclado de religiões e países que são praticamente ateístas por não ter mais religião como algo relevante.\n",
        "*   Este gráfico na verdade era meio obvio o resultado, onde quando maior a expectativa de vida de um mondo geral, menor a mortalidade infantil, o que se considerar o gráfico 1, isto também significa que quanto mais dinheiro mais chances de crianças sobreviverem, ja que isto envolve uma qualidade de vida em geral.\n",
        "*   A mortalidade infantil, vai seguir o mesmo princípio, já que como dito antes, a religião mulçumana esta nos países mais pobres.\n",
        "*   Por fim, religião sobre a rendam onde é possível ver que na verdade, considerando a media de países por cada religião, maio que isso não interfere na renda, sendo que sempre a renda média é maior do que a alta, e subsequentemente maior que a baixa, independente da religião.\n",
        "\n",
        "A conclusão que cheguei é, que religião nao influencia diretamente a renda do país, e que a renda sim, imfluencia na longividade da sua população, contudo como tido antes, vale ressaltar, que a religião foi dividida em apenas 3 grupos, e, esta é uma amostragem de apenas 20 anos, seria interessante ter uma amostragem com mais itens, como tipos de democracia/ditaduras esta em atuação nestes países, pois isto também pode ser uma variante importante para este tipo de analise."
      ]
    }
  ]
}